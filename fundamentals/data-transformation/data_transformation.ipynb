{
 "cells": [
  {
   "cell_type": "code",
   "execution_count": 1,
   "id": "1ac1b422",
   "metadata": {},
   "outputs": [],
   "source": [
    "import pandas as pd\n",
    "# Load the CSV file into a DataFrame\n",
    "df = pd.read_csv(\"/home/vicky/learning/machine-learning/sources/cleaned_data.csv\")"
   ]
  },
  {
   "cell_type": "code",
   "execution_count": 2,
   "id": "0a7043e5",
   "metadata": {},
   "outputs": [
    {
     "name": "stdout",
     "output_type": "stream",
     "text": [
      "Sample data after adding 'address_length':\n",
      "              address  address_length\n",
      "0                 NaN               3\n",
      "1  Street 45, City 22              18\n",
      "2  Street 94, City 42              18\n",
      "3  Street 58, City 50              18\n",
      "4   Street 76, City 8              17 \n",
      "\n"
     ]
    }
   ],
   "source": [
    "# Calculate the length of each address\n",
    "df['address_length'] = df['address'].apply(lambda x: len(str(x)))\n",
    "print(\"Sample data after adding 'address_length':\")\n",
    "print(df[['address', 'address_length']].head(), \"\\n\")"
   ]
  },
  {
   "cell_type": "code",
   "execution_count": 3,
   "id": "75211d69",
   "metadata": {},
   "outputs": [
    {
     "name": "stdout",
     "output_type": "stream",
     "text": [
      "Sample data after adding 'salary_category':\n",
      "    salary salary_category\n",
      "0  60000.0          medium\n",
      "1  50000.0             low\n",
      "2  60000.0          medium\n",
      "3  70000.0          medium\n",
      "4  60000.0          medium \n",
      "\n"
     ]
    }
   ],
   "source": [
    "# Define salary bins and labels\n",
    "bins = [0, 50000, 70000, 100000]\n",
    "labels = ['low', 'medium', 'high']\n",
    "\n",
    "\n",
    "# Create a new column for salary categorization\n",
    "df['salary_category'] = pd.cut(df['salary'], bins=bins, labels=labels, include_lowest=True)\n",
    "print(\"Sample data after adding 'salary_category':\")\n",
    "print(df[['salary', 'salary_category']].head(), \"\\n\")"
   ]
  },
  {
   "cell_type": "code",
   "execution_count": 4,
   "id": "565fa3b9",
   "metadata": {},
   "outputs": [
    {
     "name": "stdout",
     "output_type": "stream",
     "text": [
      "Summary report by department:\n",
      "  department  average_salary  average_age\n",
      "0    Finance    59830.035515    48.345256\n",
      "1         HR    60015.155342    48.620106\n",
      "2         IT    60034.499754    48.650074\n",
      "3  Marketing    60049.455984    48.419139\n",
      "4    unknown    59939.954966    48.075056\n"
     ]
    }
   ],
   "source": [
    "# Group data by department and compute mean salary and age\n",
    "summary_report = df.groupby('department').agg({\n",
    "    'salary': 'mean',\n",
    "    'age': 'mean'\n",
    "}).reset_index()\n",
    "\n",
    "\n",
    "# Rename columns for clarity\n",
    "summary_report.rename(columns={'salary': 'average_salary', 'age': 'average_age'}, inplace=True)\n",
    "print(\"Summary report by department:\")\n",
    "print(summary_report)"
   ]
  },
  {
   "cell_type": "code",
   "execution_count": 5,
   "id": "35baf375",
   "metadata": {},
   "outputs": [
    {
     "name": "stdout",
     "output_type": "stream",
     "text": [
      "\n",
      "Cleaned data saved to /home/vicky/learning/machine-learning/sources/transformed_data.csv\n"
     ]
    }
   ],
   "source": [
    "# Save the cleaned data to CSV for further processing\n",
    "transformed_data = \"/home/vicky/learning/machine-learning/sources/transformed_data.csv\"\n",
    "df.to_csv(transformed_data, index=False)\n",
    "print(f\"\\nCleaned data saved to {transformed_data}\")"
   ]
  }
 ],
 "metadata": {
  "kernelspec": {
   "display_name": "machine-learning",
   "language": "python",
   "name": "python3"
  },
  "language_info": {
   "codemirror_mode": {
    "name": "ipython",
    "version": 3
   },
   "file_extension": ".py",
   "mimetype": "text/x-python",
   "name": "python",
   "nbconvert_exporter": "python",
   "pygments_lexer": "ipython3",
   "version": "3.13.5"
  }
 },
 "nbformat": 4,
 "nbformat_minor": 5
}

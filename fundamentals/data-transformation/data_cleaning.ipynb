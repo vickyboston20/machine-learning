{
 "cells": [
  {
   "cell_type": "code",
   "execution_count": 1,
   "id": "e3547160",
   "metadata": {},
   "outputs": [],
   "source": [
    "import pandas as pd\n",
    "# Load the CSV file into a DataFrame\n",
    "df = pd.read_csv(\"/home/vicky/learning/machine-learning/sources/mock_data.csv\")"
   ]
  },
  {
   "cell_type": "code",
   "execution_count": 2,
   "id": "028a37ba",
   "metadata": {},
   "outputs": [
    {
     "name": "stdout",
     "output_type": "stream",
     "text": [
      "Records with missing age:\n",
      "       age   salary department\n",
      "44     NaN  60000.0  Marketing\n",
      "115    NaN  60000.0         IT\n",
      "127    NaN      NaN  Marketing\n",
      "147    NaN  60000.0         HR\n",
      "164    NaN  70000.0         IT\n",
      "...    ...      ...        ...\n",
      "19872  NaN  60000.0         HR\n",
      "19921  NaN      NaN         HR\n",
      "19940  NaN  70000.0        NaN\n",
      "19997  NaN  60000.0         IT\n",
      "19998  NaN  60000.0  Marketing\n",
      "\n",
      "[1000 rows x 3 columns]\n",
      "\n",
      "Records with missing salary:\n",
      "        age  salary department\n",
      "5      35.0     NaN         IT\n",
      "11     61.0     NaN         IT\n",
      "13     46.0     NaN        NaN\n",
      "14     48.0     NaN         IT\n",
      "15     61.0     NaN         HR\n",
      "...     ...     ...        ...\n",
      "19984  71.0     NaN        NaN\n",
      "19988  72.0     NaN  Marketing\n",
      "19992  60.0     NaN        NaN\n",
      "19993  76.0     NaN  Marketing\n",
      "19999  47.0     NaN        NaN\n",
      "\n",
      "[6481 rows x 3 columns]\n"
     ]
    }
   ],
   "source": [
    "# Identify and display records with missing age and salary\n",
    "print(\"Records with missing age:\")\n",
    "print(df[df['age'].isnull()][['age', 'salary', 'department']])\n",
    "print(\"\\nRecords with missing salary:\")\n",
    "print(df[df['salary'].isnull()][['age', 'salary', 'department']])"
   ]
  },
  {
   "cell_type": "code",
   "execution_count": 4,
   "id": "0fa98281",
   "metadata": {},
   "outputs": [
    {
     "name": "stdout",
     "output_type": "stream",
     "text": [
      "\n",
      "Median values used:\n",
      "Age median: 48.0\n",
      "Salary median: 60000.0\n"
     ]
    }
   ],
   "source": [
    "# Calculate median values for age and salary\n",
    "age_median = df['age'].median()\n",
    "salary_median = df['salary'].median()\n",
    "\n",
    "print(\"\\nMedian values used:\")\n",
    "print(f\"Age median: {age_median}\")\n",
    "print(f\"Salary median: {salary_median}\")"
   ]
  },
  {
   "cell_type": "code",
   "execution_count": 5,
   "id": "3d4a5fe3",
   "metadata": {},
   "outputs": [],
   "source": [
    "# Fill missing numeric values with the median\n",
    "df['age'] = df['age'].fillna(age_median)\n",
    "df['salary'] = df['salary'].fillna(salary_median)"
   ]
  },
  {
   "cell_type": "code",
   "execution_count": 6,
   "id": "e4b705f4",
   "metadata": {},
   "outputs": [
    {
     "name": "stdout",
     "output_type": "stream",
     "text": [
      "\n",
      "Missing values after numeric cleaning:\n",
      "id               0\n",
      "name             0\n",
      "age              0\n",
      "salary           0\n",
      "hire_date     2004\n",
      "profile       1967\n",
      "department    3997\n",
      "bonus         2002\n",
      "dtype: int64\n"
     ]
    }
   ],
   "source": [
    "print(\"\\nMissing values after numeric cleaning:\")\n",
    "print(df.isnull().sum())"
   ]
  },
  {
   "cell_type": "code",
   "execution_count": 7,
   "id": "89ce5ac7",
   "metadata": {},
   "outputs": [],
   "source": [
    "df['department'] = df['department'].fillna('unknown')"
   ]
  },
  {
   "cell_type": "code",
   "execution_count": 8,
   "id": "759f64b7",
   "metadata": {},
   "outputs": [
    {
     "name": "stdout",
     "output_type": "stream",
     "text": [
      "\n",
      "Missing values after handling department:\n",
      "id               0\n",
      "name             0\n",
      "age              0\n",
      "salary           0\n",
      "hire_date     2004\n",
      "profile       1967\n",
      "department       0\n",
      "bonus         2002\n",
      "dtype: int64\n"
     ]
    }
   ],
   "source": [
    "print(\"\\nMissing values after handling department:\")\n",
    "print(df.isnull().sum())"
   ]
  },
  {
   "cell_type": "code",
   "execution_count": 9,
   "id": "fee667dc",
   "metadata": {},
   "outputs": [
    {
     "name": "stdout",
     "output_type": "stream",
     "text": [
      "Cleaned DataFrame overview:\n",
      "   id      name   age   salary   hire_date  \\\n",
      "0   1  Name_103  77.0  60000.0  2020-06-30   \n",
      "1   2  Name_436  62.0  50000.0         NaN   \n",
      "2   3  Name_861  61.0  60000.0  2025-08-31   \n",
      "3   4  Name_271  36.0  70000.0  2018-09-13   \n",
      "4   5  Name_107  78.0  60000.0  2023-08-02   \n",
      "\n",
      "                                             profile department   bonus  \n",
      "0                                                NaN  Marketing  7824.0  \n",
      "1  {\"address\": \"Street 45, City 22\", \"phone\": \"29...  Marketing  5185.0  \n",
      "2  {\"address\": \"Street 94, City 42\", \"phone\": \"79...         HR  9622.0  \n",
      "3  {\"address\": \"Street 58, City 50\", \"phone\": \"19...    unknown  6711.0  \n",
      "4  {\"address\": \"Street 76, City 8\", \"phone\": \"800...         IT  9848.0   \n",
      "\n",
      "Missing values in each column:\n",
      "id               0\n",
      "name             0\n",
      "age              0\n",
      "salary           0\n",
      "hire_date     2004\n",
      "profile       1967\n",
      "department       0\n",
      "bonus         2002\n",
      "dtype: int64 \n",
      "\n"
     ]
    }
   ],
   "source": [
    "print(\"Cleaned DataFrame overview:\")\n",
    "print(df.head(), \"\\n\")\n",
    "print(\"Missing values in each column:\")\n",
    "print(df.isnull().sum(), \"\\n\")"
   ]
  },
  {
   "cell_type": "code",
   "execution_count": 10,
   "id": "c4a2da19",
   "metadata": {},
   "outputs": [],
   "source": [
    "import json"
   ]
  },
  {
   "cell_type": "code",
   "execution_count": 11,
   "id": "b85ed9be",
   "metadata": {},
   "outputs": [],
   "source": [
    "df['profile'] = df['profile'].apply(lambda x: json.loads(x) if pd.notnull(x) else {})"
   ]
  },
  {
   "cell_type": "code",
   "execution_count": 12,
   "id": "ab5698f5",
   "metadata": {},
   "outputs": [],
   "source": [
    "df['address'] = df['profile'].apply(lambda x: x.get('address', None))\n",
    "df['phone']   = df['profile'].apply(lambda x: x.get('phone', None))\n",
    "df['email']   = df['profile'].apply(lambda x: x.get('email', None))"
   ]
  },
  {
   "cell_type": "code",
   "execution_count": 13,
   "id": "35b8482b",
   "metadata": {},
   "outputs": [
    {
     "name": "stdout",
     "output_type": "stream",
     "text": [
      "\n",
      "Sample extracted data:\n",
      "              address       phone                  email\n",
      "0                None        None                   None\n",
      "1  Street 45, City 22  2967670323  email_290@example.com\n",
      "2  Street 94, City 42  7944902302  email_195@example.com\n",
      "3  Street 58, City 50  1901840295  email_446@example.com\n",
      "4   Street 76, City 8  8000228998  email_227@example.com\n"
     ]
    }
   ],
   "source": [
    "print(\"\\nSample extracted data:\")\n",
    "print(df[['address', 'phone', 'email']].head())"
   ]
  },
  {
   "cell_type": "code",
   "execution_count": 14,
   "id": "e40c97e8",
   "metadata": {},
   "outputs": [],
   "source": [
    "df.drop(columns=['profile'], inplace=True)"
   ]
  },
  {
   "cell_type": "code",
   "execution_count": 17,
   "id": "f600b150",
   "metadata": {},
   "outputs": [
    {
     "name": "stdout",
     "output_type": "stream",
     "text": [
      "\n",
      "Cleaned data saved to /home/vicky/learning/machine-learning/sources/cleaned_data.csv\n"
     ]
    }
   ],
   "source": [
    "# Save the cleaned data to CSV for further processing\n",
    "cleaned_data = \"/home/vicky/learning/machine-learning/sources/cleaned_data.csv\"\n",
    "df.to_csv(cleaned_data, index=False)\n",
    "print(f\"\\nCleaned data saved to {cleaned_data}\")"
   ]
  }
 ],
 "metadata": {
  "kernelspec": {
   "display_name": "machine-learning",
   "language": "python",
   "name": "python3"
  },
  "language_info": {
   "codemirror_mode": {
    "name": "ipython",
    "version": 3
   },
   "file_extension": ".py",
   "mimetype": "text/x-python",
   "name": "python",
   "nbconvert_exporter": "python",
   "pygments_lexer": "ipython3",
   "version": "3.13.5"
  }
 },
 "nbformat": 4,
 "nbformat_minor": 5
}
